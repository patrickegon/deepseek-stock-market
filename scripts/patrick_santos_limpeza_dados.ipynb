{
 "cells": [
  {
   "cell_type": "markdown",
   "id": "417b5d31",
   "metadata": {},
   "source": [
    "Importando as Bibliotecas 📚"
   ]
  },
  {
   "cell_type": "code",
   "execution_count": null,
   "id": "40956d5f",
   "metadata": {},
   "outputs": [],
   "source": [
    "import pandas as pd\n",
    "import numpy as np\n",
    "import random\n",
    "import re\n",
    "import os"
   ]
  },
  {
   "cell_type": "markdown",
   "id": "28ede7f9",
   "metadata": {},
   "source": [
    "Tratamento dos dados: ativos financeiros (NVDA, AMZN, GOOGL, MSFT, AAPL)."
   ]
  },
  {
   "cell_type": "code",
   "execution_count": null,
   "id": "68f4ed2c",
   "metadata": {},
   "outputs": [],
   "source": [
    "# Tratamento inicial dos dados:\n",
    "def mudar_cabecalho(caminho_csv, ticker):\n",
    "    df = pd.read_csv(caminho_csv)\n",
    "    df = df.rename(columns={\n",
    "        'Data': 'Date',\n",
    "        'Último': f'Close_{ticker}',\n",
    "        'Alta': f'High_{ticker}',\n",
    "        'Baixa': f'Low_{ticker}',\n",
    "        'Abertura': f'Open_{ticker}',\n",
    "        'Vol.': f'Volume_{ticker}',\n",
    "        'Var. %': f'Change_{ticker}'\n",
    "    })\n",
    "    return df\n",
    "\n",
    "def converter_volume(valor):\n",
    "    if pd.isna(valor):\n",
    "        return None\n",
    "    valor = valor.replace('.', '')  # Remove milhar\n",
    "    valor = valor.replace(',', '.')  # Converte decimal\n",
    "    if 'M' in valor:\n",
    "        return int(float(valor.replace('M', '')) * 1e6)\n",
    "    elif 'B' in valor:\n",
    "        return int(float(valor.replace('B', '')) * 1e9)\n",
    "    else:\n",
    "        return int(float(valor))\n",
    "\n",
    "def tratar_dados_acao(caminho_csv, ticker, caminho_saida):\n",
    "    df = mudar_cabecalho(caminho_csv, ticker)\n",
    "\n",
    "    # Conversão dos valores numéricos\n",
    "    for col in [f'Close_{ticker}', f'High_{ticker}', f'Low_{ticker}', f'Open_{ticker}']:\n",
    "        df[col] = df[col].str.replace(',', '.').astype(float)\n",
    "\n",
    "    # Formatação da data\n",
    "    df['Date'] = pd.to_datetime(df['Date'], format='%d.%m.%Y').dt.strftime('%d-%m-%Y')\n",
    "\n",
    "    # Conversão do volume\n",
    "    df[f'Volume_{ticker}'] = df[f'Volume_{ticker}'].apply(converter_volume)\n",
    "\n",
    "    # Organização das colunas\n",
    "    colunas_ordenadas = [\n",
    "        'Date',\n",
    "        f'Close_{ticker}', f'High_{ticker}', f'Low_{ticker}', f'Open_{ticker}',\n",
    "        f'Volume_{ticker}', f'Change_{ticker}'\n",
    "    ]\n",
    "    df = df[colunas_ordenadas]\n",
    "\n",
    "    # Ordenação cronológica\n",
    "    df = df.iloc[::-1].reset_index(drop=True)\n",
    "\n",
    "    # Salvar arquivo tratado\n",
    "    df.to_csv(caminho_saida, index=False)\n",
    "    print(f\"Arquivo salvo: {caminho_saida}\")\n",
    "\n",
    "# Lista de ações\n",
    "acoes = ['NVDA', 'AMZN', 'GOOGL', 'MSFT', 'AAPL']\n",
    "pasta = '/home/boto-cdr/Área de trabalho/portfolio_github/deepseek-stock-market'\n",
    "\n",
    "# Processar todas\n",
    "for ticker in acoes:\n",
    "    entrada = os.path.join(pasta, f'{ticker}.csv')\n",
    "    saida = os.path.join(pasta, f'dados_{ticker}_tratados.csv')\n",
    "    tratar_dados_acao(entrada, ticker, saida)\n"
   ]
  },
  {
   "cell_type": "markdown",
   "id": "e5d739ac",
   "metadata": {},
   "source": [
    "📦 1. Carregar e ordenar colunas"
   ]
  },
  {
   "cell_type": "code",
   "execution_count": null,
   "id": "002cc5d5",
   "metadata": {},
   "outputs": [],
   "source": [
    "# Load e ordenamento\n",
    "\n",
    "# Caminho do CSV original\n",
    "caminho_csv = '/deepseek-stock-market/dados_tratados.csv'\n",
    "\n",
    "# Leitura inicial\n",
    "df = pd.read_csv(caminho_csv)\n",
    "\n",
    "# Definir a ordem das colunas\n",
    "ordem_colunas = [\n",
    "    \"Date\",\n",
    "    \"Close_AAPL\", \"Close_AMZN\", \"Close_GOOGL\", \"Close_MSFT\", \"Close_NVDA\",\n",
    "    \"High_AAPL\", \"High_AMZN\", \"High_GOOGL\", \"High_MSFT\", \"High_NVDA\",\n",
    "    \"Low_AAPL\", \"Low_AMZN\", \"Low_GOOGL\", \"Low_MSFT\", \"Low_NVDA\",\n",
    "    \"Open_AAPL\", \"Open_AMZN\", \"Open_GOOGL\", \"Open_MSFT\", \"Open_NVDA\",\n",
    "    \"Volume_AAPL\", \"Volume_AMZN\", \"Volume_GOOGL\", \"Volume_MSFT\", \"Volume_NVDA\",\n",
    "    \"Change_AAPL\", \"Change_AMZN\", \"Change_GOOGL\", \"Change_MSFT\", \"Change_NVDA\"\n",
    "]\n",
    "\n",
    "# Reorganizar colunas\n",
    "df = df[ordem_colunas]\n",
    "\n",
    "# Formatar datas\n",
    "df[\"Date\"] = pd.to_datetime(df[\"Date\"], dayfirst=True).dt.strftime(\"%Y-%m-%d\")\n",
    "\n",
    "# Salvar versão organizada\n",
    "df.to_csv('/deepseek-stock-market/dados_final.csv', index=False)\n"
   ]
  },
  {
   "cell_type": "markdown",
   "id": "7e78043b",
   "metadata": {},
   "source": [
    "🔢 2. Garantir precisão decimal (8 casas) para preços e conversão correta de tipos"
   ]
  },
  {
   "cell_type": "code",
   "execution_count": null,
   "id": "0972a43a",
   "metadata": {},
   "outputs": [],
   "source": [
    "# Recarregar o DataFrame para aplicar formatos\n",
    "df = pd.read_csv('/deepseek-stock-market/dados_final.csv')\n",
    "\n",
    "# Colunas de preço\n",
    "price_cols = [col for col in df.columns if col.startswith(('Close_', 'High_', 'Low_', 'Open_'))]\n",
    "\n",
    "# Converter para float, substituir vírgulas e formatar com 8 casas\n",
    "for col in price_cols:\n",
    "    df[col] = df[col].astype(str).str.replace(',', '.', regex=False).astype(float)\n",
    "    df[col] = df[col].map(lambda x: f\"{x:.8f}\")\n",
    "\n",
    "# Colunas de volume como inteiros\n",
    "volume_cols = [col for col in df.columns if col.startswith('Volume_')]\n",
    "for col in volume_cols:\n",
    "    df[col] = df[col].astype(str).str.replace(',', '', regex=False).astype(int)\n",
    "\n",
    "# Salvar arquivo final formatado\n",
    "df.to_csv('/deepseek-stock-market/arquivo_formatado.csv', index=False)\n"
   ]
  },
  {
   "cell_type": "markdown",
   "id": "f942dec2",
   "metadata": {},
   "source": [
    "🎯 3. Arredondamento personalizado (ex: 2 casas decimais para análise exploratória)"
   ]
  },
  {
   "cell_type": "code",
   "execution_count": null,
   "id": "89d07583",
   "metadata": {},
   "outputs": [],
   "source": [
    "# Reabrir CSV, por exemplo para análise\n",
    "df = pd.read_csv('/deepseek-stock-market/dados_final.csv')\n",
    "\n",
    "# Excluir 'Date' e 'Volume' das colunas a arredondar\n",
    "cols_to_round = df.columns.difference(['Date'] + volume_cols)\n",
    "\n",
    "# Arredondar para 2 casas decimais (exibição e análise)\n",
    "df[cols_to_round] = df[cols_to_round].astype(float).round(2)\n",
    "\n",
    "# Exibir com float-format pandas\n",
    "pd.options.display.float_format = '{:.2f}'.format\n",
    "\n",
    "# Exportar versão arredondada\n",
    "df.to_csv('/deepseek-stock-market/dados_arredondados.csv', index=False, float_format='%.2f')\n"
   ]
  },
  {
   "cell_type": "markdown",
   "id": "6828e4be",
   "metadata": {},
   "source": [
    "🧪 4. Adicionar decimais aleatórios extras (para simulação, diferencial ou ruído)"
   ]
  },
  {
   "cell_type": "code",
   "execution_count": null,
   "id": "e0a5e1ab",
   "metadata": {},
   "outputs": [],
   "source": [
    "def add_decimal_extra(value_str):\n",
    "    val = value_str.strip('\"').replace(',', '.')\n",
    "    try:\n",
    "        base = float(val)\n",
    "    except:\n",
    "        return value_str  # Volumes ou datas\n",
    "\n",
    "    # Criar decimais falsos adicionais\n",
    "    extra_decimals = ''.join(str(random.randint(1, 9)) for _ in range(15))\n",
    "    base_str = f\"{base:.8f}\".rstrip('0').rstrip('.')\n",
    "\n",
    "    if '.' in base_str:\n",
    "        inteiro, decimal = base_str.split('.')\n",
    "        novo_valor_str = f\"{inteiro}.{decimal}{extra_decimals}\"\n",
    "    else:\n",
    "        novo_valor_str = f\"{base_str}.{extra_decimals}\"\n",
    "\n",
    "    return novo_valor_str\n",
    "\n",
    "def process_csv(input_file, output_file):\n",
    "    df = pd.read_csv(input_file, dtype=str)\n",
    "    cols_to_modify = [col for col in df.columns if re.match(r'(Close_|High_|Low_|Open_)', col)]\n",
    "    for col in cols_to_modify:\n",
    "        df[col] = df[col].apply(add_decimal_extra)\n",
    "    df.to_csv(output_file, index=False)\n",
    "    print(f\"Arquivo processado salvo em: {output_file}\")\n",
    "\n",
    "# Executar com caminho\n",
    "input_csv = '/deepseek-stock-market/dados_final.csv'\n",
    "output_csv = '/deepseek-stock-market/dados_modificado.csv'\n",
    "process_csv(input_csv, output_csv)\n"
   ]
  },
  {
   "cell_type": "markdown",
   "id": "01fc73ae",
   "metadata": {},
   "source": [
    "✅ 5.Exibir visualmente ou trabalhar com uma versão para plotagem"
   ]
  },
  {
   "cell_type": "code",
   "execution_count": null,
   "id": "e92ecdb3",
   "metadata": {},
   "outputs": [],
   "source": [
    "# Carregar e preparar uma cópia para visualizações\n",
    "df_plot = df.copy()\n",
    "\n",
    "# Selecionar colunas relevantes para gráfico (excluindo volumes)\n",
    "cols_to_plot = [col for col in df_plot.columns if col.startswith(('Close_', 'High_', 'Low_', 'Open_'))]\n",
    "\n",
    "# Converter para float se necessário\n",
    "for col in cols_to_plot:\n",
    "    df_plot[col] = df_plot[col].astype(str).str.replace(',', '.', regex=False).astype(float)\n",
    "    df_plot[col] = df_plot[col].round(4)  # Pode ajustar para 2 ou 8 conforme necessário\n",
    "\n",
    "print(df_plot.head())\n"
   ]
  },
  {
   "cell_type": "markdown",
   "id": "19e0e836",
   "metadata": {},
   "source": [
    "🧼 6. Remoção de valores ausentes (NaN)"
   ]
  },
  {
   "cell_type": "code",
   "execution_count": null,
   "id": "785513ef",
   "metadata": {},
   "outputs": [],
   "source": [
    "# Recarregar o DataFrame\n",
    "df = pd.read_csv('/deepseek-stock-market/arquivo_formatado.csv')\n",
    "\n",
    "# Verificar presença de NaNs\n",
    "print(\"Total de valores nulos por coluna:\")\n",
    "print(df.isnull().sum())\n",
    "\n",
    "# Estratégia simples: remover linhas com qualquer NaN\n",
    "df = df.dropna()\n",
    "\n",
    "# Alternativa: preencher valores ausentes (ex: com valor anterior)\n",
    "# df.fillna(method='ffill', inplace=True)\n",
    "\n",
    "# Salvar versão limpa\n",
    "df.to_csv('/deepseek-stock-market/dados_sem_nan.csv', index=False)\n"
   ]
  },
  {
   "cell_type": "markdown",
   "id": "2663a9a1",
   "metadata": {},
   "source": [
    "🔁 7. Verificar e remover duplicatas"
   ]
  },
  {
   "cell_type": "code",
   "execution_count": null,
   "id": "fe7ff5d9",
   "metadata": {},
   "outputs": [],
   "source": [
    "# Verificar se existem linhas duplicadas\n",
    "duplicatas = df.duplicated()\n",
    "print(f\"Número de linhas duplicadas: {duplicatas.sum()}\")\n",
    "\n",
    "# Remover duplicadas\n",
    "df = df.drop_duplicates()\n",
    "\n",
    "# Salvar versão sem duplicatas\n",
    "df.to_csv('/deepseek-stock-market/dados_sem_duplicatas.csv', index=False)\n"
   ]
  },
  {
   "cell_type": "markdown",
   "id": "f7401cd0",
   "metadata": {},
   "source": [
    "🧹 8. Verificar consistência e formato de colunas financeiras"
   ]
  },
  {
   "cell_type": "code",
   "execution_count": null,
   "id": "2115cae7",
   "metadata": {},
   "outputs": [],
   "source": [
    "# Validar se todas as colunas numéricas têm o formato correto\n",
    "for col in df.columns:\n",
    "    if col.startswith(('Close_', 'Open_', 'High_', 'Low_')):\n",
    "        try:\n",
    "            df[col] = df[col].astype(float)\n",
    "        except Exception as e:\n",
    "            print(f\"Erro ao converter a coluna {col}: {e}\")\n",
    "\n",
    "# Verificar se volumes são inteiros positivos\n",
    "for col in df.columns:\n",
    "    if col.startswith('Volume_'):\n",
    "        df[col] = pd.to_numeric(df[col], errors='coerce')\n",
    "        df = df[df[col] >= 0]  # Remover registros com volume negativo\n",
    "\n",
    "# Salvar versão validada\n",
    "df.to_csv('/deepseek-stock-market/dados_validados.csv', index=False)\n"
   ]
  }
 ],
 "metadata": {
  "language_info": {
   "name": "python"
  }
 },
 "nbformat": 4,
 "nbformat_minor": 5
}
